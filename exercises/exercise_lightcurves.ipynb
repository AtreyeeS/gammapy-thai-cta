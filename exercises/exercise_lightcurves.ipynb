{
 "cells": [
  {
   "cell_type": "markdown",
   "metadata": {},
   "source": [
    "# **Exercise: Light Curves and temporal analysis**\n",
    "\n",
    "This exercise is a continuations of the tutorials demonstrated\n",
    "You should not be in a position to\n",
    "- think of applying your own science case to gammapy\n",
    "- adapting the tutorials on https://docs.gammapy.org/0.18.2/tutorials/index.html for your specific case\n",
    "\n",
    "\n",
    "We propose here a very common use case : making lightcurves\n",
    "- read from disk H.E.S.S. data of PKS 2155-304\n",
    "- perform a data reduction in small time bins\n",
    "- define a spectral model\n",
    "- extract the light curve\n",
    "- use a temporal model to fit the light curves\n",
    "- simulate a time varying source"
   ]
  },
  {
   "cell_type": "markdown",
   "metadata": {},
   "source": [
    "## Setup and Import "
   ]
  },
  {
   "cell_type": "code",
   "execution_count": null,
   "metadata": {},
   "outputs": [],
   "source": [
    "# Import the required subpackages from gammapy\n",
    "\n",
    "from gammapy.data import DataStore\n",
    "from gammapy.datasets import SpectrumDataset\n",
    "from gammapy.modeling.models import PowerLawSpectralModel, SkyModel\n",
    "from gammapy.maps import MapAxis\n",
    "from gammapy.estimators import LightCurveEstimator\n",
    "from gammapy.makers import (\n",
    "    SpectrumDatasetMaker,\n",
    "    ReflectedRegionsBackgroundMaker,\n",
    "    SafeMaskMaker,\n",
    ")\n",
    "\n",
    "# Import general pacakges, eg: matplotlib, numpy, astropy, etc\n",
    "\n",
    "%matplotlib inline\n",
    "import astropy.units as u\n",
    "import numpy as np\n",
    "from astropy.coordinates import SkyCoord\n",
    "from astropy.time import Time\n",
    "from regions import CircleSkyRegion\n",
    "from astropy.coordinates import Angle\n",
    "\n",
    "import logging\n",
    "\n",
    "log = logging.getLogger(__name__)\n",
    "\n"
   ]
  },
  {
   "cell_type": "markdown",
   "metadata": {},
   "source": [
    "## Read the data"
   ]
  },
  {
   "cell_type": "code",
   "execution_count": null,
   "metadata": {},
   "outputs": [],
   "source": [
    "# Read data using `Datastore.from_dir()`\n",
    "# Make a selection to read on PKS2155-304 data\n",
    "# how many obervations do you have? Ans: 21"
   ]
  },
  {
   "cell_type": "markdown",
   "metadata": {},
   "source": [
    "## Define time intervals"
   ]
  },
  {
   "cell_type": "code",
   "execution_count": null,
   "metadata": {},
   "outputs": [],
   "source": [
    "# create the list of time intervals. \n",
    "#Each time interval is an astropy.time.Time object, containing a start and stop time.\n",
    "\n",
    "# use start time = 53945.85416 MJD"
   ]
  },
  {
   "cell_type": "code",
   "execution_count": null,
   "metadata": {},
   "outputs": [],
   "source": [
    "t0 = Time(\"2006-07-29T20:30\")\n",
    "duration = 10 * u.min\n",
    "n_time_bins = 35\n",
    "times = t0 + np.arange(n_time_bins) * duration\n",
    "time_intervals = [\n",
    "    Time([tstart, tstop]) for tstart, tstop in zip(times[:-1], times[1:])\n",
    "]"
   ]
  },
  {
   "cell_type": "markdown",
   "metadata": {},
   "source": [
    "## Filter the observations list in time intervals\n",
    "\n",
    "apply the list of time intervals to the observations with `gammapy.data.Observations.select_time()`"
   ]
  },
  {
   "cell_type": "markdown",
   "metadata": {},
   "source": [
    "## Building datasets from the new observations\n",
    "\n",
    "Follow the data reduction part of spectral analysis - 1D dataset\n",
    "\n",
    "OR\n",
    "\n",
    "Build 3D datasets following data reduction in analysis3d\n",
    "\n",
    "Q) What do you need for your science case? How do you decide?"
   ]
  },
  {
   "cell_type": "markdown",
   "metadata": {},
   "source": [
    "## Define SkyModel and apply to all datasets \n",
    "- note: DO NOT stack!!!"
   ]
  },
  {
   "cell_type": "markdown",
   "metadata": {},
   "source": [
    "## Extract the light curve\n",
    "\n",
    "create  `gammapy.time.LightCurveEstimator` for the list of datasets you just produced. "
   ]
  },
  {
   "cell_type": "code",
   "execution_count": null,
   "metadata": {},
   "outputs": [],
   "source": [
    "lc_maker = LightCurveEstimator(\n",
    "    energy_edges=[0.7, 20] * u.TeV,\n",
    "    source=\"pks2155\",\n",
    "    time_intervals=time_intervals,\n",
    ")"
   ]
  },
  {
   "cell_type": "code",
   "execution_count": null,
   "metadata": {},
   "outputs": [],
   "source": [
    "## extract the lightcurve using lc_maker.run(datasets)"
   ]
  },
  {
   "cell_type": "code",
   "execution_count": null,
   "metadata": {},
   "outputs": [],
   "source": [
    "## plot the lightcurve"
   ]
  },
  {
   "cell_type": "markdown",
   "metadata": {},
   "source": [
    "If you have come this far, you are able to write your own notebooks using gammapy. Well done!\n",
    "Now, we move to a slightly advanced topic\n",
    "- light curve simulation using temporal model"
   ]
  },
  {
   "cell_type": "code",
   "execution_count": null,
   "metadata": {},
   "outputs": [],
   "source": [
    "# Try to define a temporal model \n",
    "# pick an example from https://docs.gammapy.org/0.18.2/modeling/gallery/index.html#model-gallery\n",
    "# Define SkyModel as combination of Temporal and Spectral Model"
   ]
  },
  {
   "cell_type": "code",
   "execution_count": null,
   "metadata": {},
   "outputs": [],
   "source": [
    "# Do binned simulations using the above defined SkyModel\n",
    "# Extract lightcurve as before\n",
    "# Use a temporal model to fit the simulated datasets\n",
    "# follow: https://docs.gammapy.org/0.18.2/tutorials/light_curve_simulation.html"
   ]
  },
  {
   "cell_type": "code",
   "execution_count": null,
   "metadata": {},
   "outputs": [],
   "source": []
  }
 ],
 "metadata": {
  "kernelspec": {
   "display_name": "Python 3",
   "language": "python",
   "name": "python3"
  },
  "language_info": {
   "codemirror_mode": {
    "name": "ipython",
    "version": 3
   },
   "file_extension": ".py",
   "mimetype": "text/x-python",
   "name": "python",
   "nbconvert_exporter": "python",
   "pygments_lexer": "ipython3",
   "version": "3.7.0"
  }
 },
 "nbformat": 4,
 "nbformat_minor": 4
}
